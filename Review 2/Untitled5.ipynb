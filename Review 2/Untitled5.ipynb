{
  "nbformat": 4,
  "nbformat_minor": 0,
  "metadata": {
    "colab": {
      "provenance": [],
      "gpuType": "T4"
    },
    "kernelspec": {
      "name": "python3",
      "display_name": "Python 3"
    },
    "language_info": {
      "name": "python"
    },
    "accelerator": "GPU"
  },
  "cells": [
    {
      "cell_type": "code",
      "execution_count": null,
      "metadata": {
        "colab": {
          "base_uri": "https://localhost:8080/"
        },
        "id": "WXfzOzmt1gn3",
        "outputId": "4e7950af-c887-4340-80bb-db832359c5dc"
      },
      "outputs": [
        {
          "output_type": "stream",
          "name": "stdout",
          "text": [
            "Mon Mar 18 04:58:14 2024       \n",
            "+---------------------------------------------------------------------------------------+\n",
            "| NVIDIA-SMI 535.104.05             Driver Version: 535.104.05   CUDA Version: 12.2     |\n",
            "|-----------------------------------------+----------------------+----------------------+\n",
            "| GPU  Name                 Persistence-M | Bus-Id        Disp.A | Volatile Uncorr. ECC |\n",
            "| Fan  Temp   Perf          Pwr:Usage/Cap |         Memory-Usage | GPU-Util  Compute M. |\n",
            "|                                         |                      |               MIG M. |\n",
            "|=========================================+======================+======================|\n",
            "|   0  Tesla T4                       Off | 00000000:00:04.0 Off |                    0 |\n",
            "| N/A   51C    P8               9W /  70W |      0MiB / 15360MiB |      0%      Default |\n",
            "|                                         |                      |                  N/A |\n",
            "+-----------------------------------------+----------------------+----------------------+\n",
            "                                                                                         \n",
            "+---------------------------------------------------------------------------------------+\n",
            "| Processes:                                                                            |\n",
            "|  GPU   GI   CI        PID   Type   Process name                            GPU Memory |\n",
            "|        ID   ID                                                             Usage      |\n",
            "|=======================================================================================|\n",
            "|  No running processes found                                                           |\n",
            "+---------------------------------------------------------------------------------------+\n"
          ]
        }
      ],
      "source": [
        "!nvidia-smi"
      ]
    },
    {
      "cell_type": "code",
      "source": [
        "### 1. Mount Google Drive ###\n",
        "\n",
        "from google.colab import drive\n",
        "\n",
        "drive.mount('/content/gdrive')"
      ],
      "metadata": {
        "id": "MBxPBtTZ6aat",
        "colab": {
          "base_uri": "https://localhost:8080/"
        },
        "outputId": "597ec495-60db-4090-9972-dfadf5f9c632"
      },
      "execution_count": 6,
      "outputs": [
        {
          "output_type": "stream",
          "name": "stdout",
          "text": [
            "Mounted at /content/gdrive\n"
          ]
        }
      ]
    },
    {
      "cell_type": "code",
      "source": [
        "### 2. Prepare data ###\n",
        "\n",
        "!scp '/content/gdrive/My Drive/MLProject/data.zip' '/content/data.zip'\n",
        "\n",
        "!unzip '/content/data.zip' -d '/content/'"
      ],
      "metadata": {
        "colab": {
          "base_uri": "https://localhost:8080/"
        },
        "id": "NwImjApKLj5F",
        "outputId": "db2502b3-568b-4fdd-93c3-cb3c4c861dc3"
      },
      "execution_count": 7,
      "outputs": [
        {
          "output_type": "stream",
          "name": "stdout",
          "text": [
            "Archive:  /content/data.zip\n",
            "   creating: /content/test/NoROP/\n",
            "  inflating: /content/test/NoROP/NoROP_Patient1_equalized.jpg  \n",
            "  inflating: /content/test/NoROP/NoROP_Patient10_2_equalized.jpg  \n",
            "  inflating: /content/test/NoROP/NoROP_Patient10_2_eye2_equalized.jpg  \n",
            "  inflating: /content/test/NoROP/NoROP_Patient10_equalized.jpg  \n",
            "  inflating: /content/test/NoROP/NoROP_Patient11_equalized.jpg  \n",
            "  inflating: /content/test/NoROP/NoROP_Patient12_equalized.jpg  \n",
            "  inflating: /content/test/NoROP/NoROP_Patient13_equalized.jpg  \n",
            "  inflating: /content/test/NoROP/NoROP_Patient14_equalized.jpg  \n",
            "  inflating: /content/test/NoROP/NoROP_Patient15_equalized.jpg  \n",
            "  inflating: /content/test/NoROP/NoROP_Patient16_equalized.jpg  \n",
            "  inflating: /content/test/NoROP/NoROP_Patient17_2_equalized.jpg  \n",
            "  inflating: /content/test/NoROP/NoROP_Patient17_equalized.jpg  \n",
            "  inflating: /content/test/NoROP/NoROP_Patient18_2_equalized.jpg  \n",
            "  inflating: /content/test/NoROP/NoROP_Patient18_equalized.jpg  \n",
            "  inflating: /content/test/NoROP/NoROP_Patient19_2_equalized.jpg  \n",
            "  inflating: /content/test/NoROP/NoROP_Patient19_3_equalized.jpg  \n",
            "  inflating: /content/test/NoROP/NoROP_Patient19_equalized.jpg  \n",
            "  inflating: /content/test/NoROP/NoROP_Patient2_equalized.jpg  \n",
            "  inflating: /content/test/NoROP/NoROP_Patient20_equalized.jpg  \n",
            "  inflating: /content/test/NoROP/NoROP_Patient21_2_equalized.jpg  \n",
            "  inflating: /content/test/NoROP/NoROP_Patient21_equalized.jpg  \n",
            "  inflating: /content/test/NoROP/NoROP_Patient22_2_equalized.jpg  \n",
            "  inflating: /content/test/NoROP/NoROP_Patient22_equalized.jpg  \n",
            "  inflating: /content/test/NoROP/NoROP_Patient23_equalized.jpg  \n",
            "  inflating: /content/test/NoROP/NoROP_Patient24_equalized.jpg  \n",
            "  inflating: /content/test/NoROP/NoROP_Patient3_equalized.jpg  \n",
            "  inflating: /content/test/NoROP/NoROP_Patient3_eye2_equalized.jpg  \n",
            "  inflating: /content/test/NoROP/NoROP_Patient4_equalized.jpg  \n",
            "  inflating: /content/test/NoROP/NoROP_Patient4_eye2_equalized.jpg  \n",
            "  inflating: /content/test/NoROP/NoROP_Patient5_equalized.jpg  \n",
            "  inflating: /content/test/NoROP/NoROP_Patient6_equalized.jpg  \n",
            "  inflating: /content/test/NoROP/NoROP_Patient6_eye2_equalized.jpg  \n",
            "  inflating: /content/test/NoROP/NoROP_Patient7_equalized.jpg  \n",
            "  inflating: /content/test/NoROP/NoROP_Patient8_2_equalized.jpg  \n",
            "  inflating: /content/test/NoROP/NoROP_Patient8_equalized.jpg  \n",
            "  inflating: /content/test/NoROP/NoROP_Patient8_eye2_equalized.jpg  \n",
            "  inflating: /content/test/NoROP/NoROP_Patient9_2_equalized.jpg  \n",
            "  inflating: /content/test/NoROP/NoROP_Patient9_3_equalized.jpg  \n",
            "  inflating: /content/test/NoROP/NoROP_Patient9_equalized.jpg  \n",
            "   creating: /content/test/Stage1/\n",
            "  inflating: /content/test/Stage1/Stage1_Patient1_equalized.jpg  \n",
            "  inflating: /content/test/Stage1/Stage1_Patient10_equalized.jpg  \n",
            "  inflating: /content/test/Stage1/Stage1_Patient11_equalized.jpg  \n",
            "  inflating: /content/test/Stage1/Stage1_Patient12_equalized.jpg  \n",
            "  inflating: /content/test/Stage1/Stage1_Patient13_2_equalized.jpg  \n",
            "  inflating: /content/test/Stage1/Stage1_Patient13_equalized.jpg  \n",
            "  inflating: /content/test/Stage1/Stage1_Patient14_equalized.jpg  \n",
            "  inflating: /content/test/Stage1/Stage1_Patient15_2_equalized.jpg  \n",
            "  inflating: /content/test/Stage1/Stage1_Patient15_equalized.jpg  \n",
            "  inflating: /content/test/Stage1/Stage1_Patient2_equalized.jpg  \n",
            "  inflating: /content/test/Stage1/Stage1_Patient3_2_equalized.jpg  \n",
            "  inflating: /content/test/Stage1/Stage1_Patient3_equalized.jpg  \n",
            "  inflating: /content/test/Stage1/Stage1_Patient4_equalized.jpg  \n",
            "  inflating: /content/test/Stage1/Stage1_Patient5_equalized.jpg  \n",
            "  inflating: /content/test/Stage1/Stage1_Patient6_equalized.jpg  \n",
            "  inflating: /content/test/Stage1/Stage1_Patient7_equalized.jpg  \n",
            "  inflating: /content/test/Stage1/Stage1_Patient8_equalized.jpg  \n",
            "  inflating: /content/test/Stage1/Stage1_Patient9_2_equalized.jpg  \n",
            "  inflating: /content/test/Stage1/Stage1_Patient9_equalized.jpg  \n",
            "   creating: /content/test/Stage2/\n",
            "  inflating: /content/test/Stage2/Stage2_Patient1_equalized.jpg  \n",
            "  inflating: /content/test/Stage2/Stage2_Patient10_1_equalized.jpg  \n",
            "  inflating: /content/test/Stage2/Stage2_Patient10_2_equalized.jpg  \n",
            "  inflating: /content/test/Stage2/Stage2_Patient11_1_equalized.jpg  \n",
            "  inflating: /content/test/Stage2/Stage2_Patient11_2_equalized.jpg  \n",
            "  inflating: /content/test/Stage2/Stage2_Patient12_equalized.jpg  \n",
            "  inflating: /content/test/Stage2/Stage2_Patient13_equalized.jpg  \n",
            "  inflating: /content/test/Stage2/Stage2_Patient14_1_equalized.jpg  \n",
            "  inflating: /content/test/Stage2/Stage2_Patient14_2_equalized.jpg  \n",
            "  inflating: /content/test/Stage2/Stage2_Patient15_1_equalized.jpg  \n",
            "  inflating: /content/test/Stage2/Stage2_Patient15_2_equalized.jpg  \n",
            "  inflating: /content/test/Stage2/Stage2_Patient2_equalized.jpg  \n",
            "  inflating: /content/test/Stage2/Stage2_Patient3_equalized.jpg  \n",
            "  inflating: /content/test/Stage2/Stage2_Patient4_equalized.jpg  \n",
            "  inflating: /content/test/Stage2/Stage2_Patient5_1_equalized.jpg  \n",
            "  inflating: /content/test/Stage2/Stage2_Patient5_2_equalized.jpg  \n",
            "  inflating: /content/test/Stage2/Stage2_Patient6_equalized.jpg  \n",
            "  inflating: /content/test/Stage2/Stage2_Patient7_1_equalized.jpg  \n",
            "  inflating: /content/test/Stage2/Stage2_Patient7_2_equalized.jpg  \n",
            "  inflating: /content/test/Stage2/Stage2_Patient8_equalized.jpg  \n",
            "  inflating: /content/test/Stage2/Stage2_Patient9_1_equalized.jpg  \n",
            "  inflating: /content/test/Stage2/Stage2_Patient9_2_equalized.jpg  \n",
            "   creating: /content/test/Stage3/\n",
            "  inflating: /content/test/Stage3/Stage3_Patient1_equalized.jpg  \n",
            "  inflating: /content/test/Stage3/Stage3_Patient10_equalized.jpg  \n",
            "  inflating: /content/test/Stage3/Stage3_Patient11_equalized.jpg  \n",
            "  inflating: /content/test/Stage3/Stage3_Patient2_equalized.jpg  \n",
            "  inflating: /content/test/Stage3/Stage3_Patient3_equalized.jpg  \n",
            "  inflating: /content/test/Stage3/Stage3_Patient4_equalized.jpg  \n",
            "  inflating: /content/test/Stage3/Stage3_Patient5_equalized.jpg  \n",
            "  inflating: /content/test/Stage3/Stage3_Patient6_equalized.jpg  \n",
            "  inflating: /content/test/Stage3/Stage3_Patient7_equalized.jpg  \n",
            "  inflating: /content/test/Stage3/Stage3_Patient8_equalized.jpg  \n",
            "  inflating: /content/test/Stage3/Stage3_Patient9_equalized.jpg  \n",
            "   creating: /content/train/NoROP/\n",
            "  inflating: /content/train/NoROP/NoROP_Patient1_equalized.jpg  \n",
            "  inflating: /content/train/NoROP/NoROP_Patient10_2_equalized.jpg  \n",
            "  inflating: /content/train/NoROP/NoROP_Patient10_2_eye2_equalized.jpg  \n",
            "  inflating: /content/train/NoROP/NoROP_Patient10_equalized.jpg  \n",
            "  inflating: /content/train/NoROP/NoROP_Patient11_equalized.jpg  \n",
            "  inflating: /content/train/NoROP/NoROP_Patient12_equalized.jpg  \n",
            "  inflating: /content/train/NoROP/NoROP_Patient13_equalized.jpg  \n",
            "  inflating: /content/train/NoROP/NoROP_Patient14_equalized.jpg  \n",
            "  inflating: /content/train/NoROP/NoROP_Patient15_equalized.jpg  \n",
            "  inflating: /content/train/NoROP/NoROP_Patient16_equalized.jpg  \n",
            "  inflating: /content/train/NoROP/NoROP_Patient17_2_equalized.jpg  \n",
            "  inflating: /content/train/NoROP/NoROP_Patient17_equalized.jpg  \n",
            "  inflating: /content/train/NoROP/NoROP_Patient18_2_equalized.jpg  \n",
            "  inflating: /content/train/NoROP/NoROP_Patient18_equalized.jpg  \n",
            "  inflating: /content/train/NoROP/NoROP_Patient19_2_equalized.jpg  \n",
            "  inflating: /content/train/NoROP/NoROP_Patient19_3_equalized.jpg  \n",
            "  inflating: /content/train/NoROP/NoROP_Patient19_equalized.jpg  \n",
            "  inflating: /content/train/NoROP/NoROP_Patient2_equalized.jpg  \n",
            "  inflating: /content/train/NoROP/NoROP_Patient20_equalized.jpg  \n",
            "  inflating: /content/train/NoROP/NoROP_Patient21_2_equalized.jpg  \n",
            "  inflating: /content/train/NoROP/NoROP_Patient21_equalized.jpg  \n",
            "  inflating: /content/train/NoROP/NoROP_Patient22_2_equalized.jpg  \n",
            "  inflating: /content/train/NoROP/NoROP_Patient22_equalized.jpg  \n",
            "  inflating: /content/train/NoROP/NoROP_Patient23_equalized.jpg  \n",
            "  inflating: /content/train/NoROP/NoROP_Patient24_equalized.jpg  \n",
            "  inflating: /content/train/NoROP/NoROP_Patient3_equalized.jpg  \n",
            "  inflating: /content/train/NoROP/NoROP_Patient3_eye2_equalized.jpg  \n",
            "  inflating: /content/train/NoROP/NoROP_Patient4_equalized.jpg  \n",
            "  inflating: /content/train/NoROP/NoROP_Patient4_eye2_equalized.jpg  \n",
            "  inflating: /content/train/NoROP/NoROP_Patient5_equalized.jpg  \n",
            "  inflating: /content/train/NoROP/NoROP_Patient6_equalized.jpg  \n",
            "  inflating: /content/train/NoROP/NoROP_Patient6_eye2_equalized.jpg  \n",
            "  inflating: /content/train/NoROP/NoROP_Patient7_equalized.jpg  \n",
            "  inflating: /content/train/NoROP/NoROP_Patient8_2_equalized.jpg  \n",
            "  inflating: /content/train/NoROP/NoROP_Patient8_equalized.jpg  \n",
            "  inflating: /content/train/NoROP/NoROP_Patient8_eye2_equalized.jpg  \n",
            "  inflating: /content/train/NoROP/NoROP_Patient9_2_equalized.jpg  \n",
            "  inflating: /content/train/NoROP/NoROP_Patient9_3_equalized.jpg  \n",
            "  inflating: /content/train/NoROP/NoROP_Patient9_equalized.jpg  \n",
            "   creating: /content/train/Stage1/\n",
            "  inflating: /content/train/Stage1/Stage1_Patient1_equalized.jpg  \n",
            "  inflating: /content/train/Stage1/Stage1_Patient10_equalized.jpg  \n",
            "  inflating: /content/train/Stage1/Stage1_Patient11_equalized.jpg  \n",
            "  inflating: /content/train/Stage1/Stage1_Patient12_equalized.jpg  \n",
            "  inflating: /content/train/Stage1/Stage1_Patient13_2_equalized.jpg  \n",
            "  inflating: /content/train/Stage1/Stage1_Patient13_equalized.jpg  \n",
            "  inflating: /content/train/Stage1/Stage1_Patient14_equalized.jpg  \n",
            "  inflating: /content/train/Stage1/Stage1_Patient15_2_equalized.jpg  \n",
            "  inflating: /content/train/Stage1/Stage1_Patient15_equalized.jpg  \n",
            "  inflating: /content/train/Stage1/Stage1_Patient2_equalized.jpg  \n",
            "  inflating: /content/train/Stage1/Stage1_Patient3_2_equalized.jpg  \n",
            "  inflating: /content/train/Stage1/Stage1_Patient3_equalized.jpg  \n",
            "  inflating: /content/train/Stage1/Stage1_Patient4_equalized.jpg  \n",
            "  inflating: /content/train/Stage1/Stage1_Patient5_equalized.jpg  \n",
            "  inflating: /content/train/Stage1/Stage1_Patient6_equalized.jpg  \n",
            "  inflating: /content/train/Stage1/Stage1_Patient7_equalized.jpg  \n",
            "  inflating: /content/train/Stage1/Stage1_Patient8_equalized.jpg  \n",
            "  inflating: /content/train/Stage1/Stage1_Patient9_2_equalized.jpg  \n",
            "  inflating: /content/train/Stage1/Stage1_Patient9_equalized.jpg  \n",
            "   creating: /content/train/Stage2/\n",
            "  inflating: /content/train/Stage2/Stage2_Patient1_equalized.jpg  \n",
            "  inflating: /content/train/Stage2/Stage2_Patient10_1_equalized.jpg  \n",
            "  inflating: /content/train/Stage2/Stage2_Patient10_2_equalized.jpg  \n",
            "  inflating: /content/train/Stage2/Stage2_Patient11_1_equalized.jpg  \n",
            "  inflating: /content/train/Stage2/Stage2_Patient11_2_equalized.jpg  \n",
            "  inflating: /content/train/Stage2/Stage2_Patient12_equalized.jpg  \n",
            "  inflating: /content/train/Stage2/Stage2_Patient13_equalized.jpg  \n",
            "  inflating: /content/train/Stage2/Stage2_Patient14_1_equalized.jpg  \n",
            "  inflating: /content/train/Stage2/Stage2_Patient14_2_equalized.jpg  \n",
            "  inflating: /content/train/Stage2/Stage2_Patient15_1_equalized.jpg  \n",
            "  inflating: /content/train/Stage2/Stage2_Patient15_2_equalized.jpg  \n",
            "  inflating: /content/train/Stage2/Stage2_Patient2_equalized.jpg  \n",
            "  inflating: /content/train/Stage2/Stage2_Patient3_equalized.jpg  \n",
            "  inflating: /content/train/Stage2/Stage2_Patient4_equalized.jpg  \n",
            "  inflating: /content/train/Stage2/Stage2_Patient5_1_equalized.jpg  \n",
            "  inflating: /content/train/Stage2/Stage2_Patient5_2_equalized.jpg  \n",
            "  inflating: /content/train/Stage2/Stage2_Patient6_equalized.jpg  \n",
            "  inflating: /content/train/Stage2/Stage2_Patient7_1_equalized.jpg  \n",
            "  inflating: /content/train/Stage2/Stage2_Patient7_2_equalized.jpg  \n",
            "  inflating: /content/train/Stage2/Stage2_Patient8_equalized.jpg  \n",
            "  inflating: /content/train/Stage2/Stage2_Patient9_1_equalized.jpg  \n",
            "  inflating: /content/train/Stage2/Stage2_Patient9_2_equalized.jpg  \n",
            "   creating: /content/train/Stage3/\n",
            "  inflating: /content/train/Stage3/Stage3_Patient1_equalized.jpg  \n",
            "  inflating: /content/train/Stage3/Stage3_Patient10_equalized.jpg  \n",
            "  inflating: /content/train/Stage3/Stage3_Patient11_equalized.jpg  \n",
            "  inflating: /content/train/Stage3/Stage3_Patient2_equalized.jpg  \n",
            "  inflating: /content/train/Stage3/Stage3_Patient3_equalized.jpg  \n",
            "  inflating: /content/train/Stage3/Stage3_Patient4_equalized.jpg  \n",
            "  inflating: /content/train/Stage3/Stage3_Patient5_equalized.jpg  \n",
            "  inflating: /content/train/Stage3/Stage3_Patient6_equalized.jpg  \n",
            "  inflating: /content/train/Stage3/Stage3_Patient7_equalized.jpg  \n",
            "  inflating: /content/train/Stage3/Stage3_Patient8_equalized.jpg  \n",
            "  inflating: /content/train/Stage3/Stage3_Patient9_equalized.jpg  \n"
          ]
        }
      ]
    },
    {
      "cell_type": "code",
      "source": [
        "### 3. Install Ultralytics ###\n",
        "\n",
        "!pip install ultralytics"
      ],
      "metadata": {
        "colab": {
          "base_uri": "https://localhost:8080/"
        },
        "id": "03Sb1wNMMDeu",
        "outputId": "527d3e7e-607a-4199-a856-17548cb7f3c5"
      },
      "execution_count": 8,
      "outputs": [
        {
          "output_type": "stream",
          "name": "stdout",
          "text": [
            "Requirement already satisfied: ultralytics in /usr/local/lib/python3.10/dist-packages (8.1.29)\n",
            "Requirement already satisfied: matplotlib>=3.3.0 in /usr/local/lib/python3.10/dist-packages (from ultralytics) (3.7.1)\n",
            "Requirement already satisfied: opencv-python>=4.6.0 in /usr/local/lib/python3.10/dist-packages (from ultralytics) (4.8.0.76)\n",
            "Requirement already satisfied: pillow>=7.1.2 in /usr/local/lib/python3.10/dist-packages (from ultralytics) (9.4.0)\n",
            "Requirement already satisfied: pyyaml>=5.3.1 in /usr/local/lib/python3.10/dist-packages (from ultralytics) (6.0.1)\n",
            "Requirement already satisfied: requests>=2.23.0 in /usr/local/lib/python3.10/dist-packages (from ultralytics) (2.31.0)\n",
            "Requirement already satisfied: scipy>=1.4.1 in /usr/local/lib/python3.10/dist-packages (from ultralytics) (1.11.4)\n",
            "Requirement already satisfied: torch>=1.8.0 in /usr/local/lib/python3.10/dist-packages (from ultralytics) (2.2.1+cu121)\n",
            "Requirement already satisfied: torchvision>=0.9.0 in /usr/local/lib/python3.10/dist-packages (from ultralytics) (0.17.1+cu121)\n",
            "Requirement already satisfied: tqdm>=4.64.0 in /usr/local/lib/python3.10/dist-packages (from ultralytics) (4.66.2)\n",
            "Requirement already satisfied: psutil in /usr/local/lib/python3.10/dist-packages (from ultralytics) (5.9.5)\n",
            "Requirement already satisfied: py-cpuinfo in /usr/local/lib/python3.10/dist-packages (from ultralytics) (9.0.0)\n",
            "Requirement already satisfied: thop>=0.1.1 in /usr/local/lib/python3.10/dist-packages (from ultralytics) (0.1.1.post2209072238)\n",
            "Requirement already satisfied: pandas>=1.1.4 in /usr/local/lib/python3.10/dist-packages (from ultralytics) (1.5.3)\n",
            "Requirement already satisfied: seaborn>=0.11.0 in /usr/local/lib/python3.10/dist-packages (from ultralytics) (0.13.1)\n",
            "Requirement already satisfied: contourpy>=1.0.1 in /usr/local/lib/python3.10/dist-packages (from matplotlib>=3.3.0->ultralytics) (1.2.0)\n",
            "Requirement already satisfied: cycler>=0.10 in /usr/local/lib/python3.10/dist-packages (from matplotlib>=3.3.0->ultralytics) (0.12.1)\n",
            "Requirement already satisfied: fonttools>=4.22.0 in /usr/local/lib/python3.10/dist-packages (from matplotlib>=3.3.0->ultralytics) (4.49.0)\n",
            "Requirement already satisfied: kiwisolver>=1.0.1 in /usr/local/lib/python3.10/dist-packages (from matplotlib>=3.3.0->ultralytics) (1.4.5)\n",
            "Requirement already satisfied: numpy>=1.20 in /usr/local/lib/python3.10/dist-packages (from matplotlib>=3.3.0->ultralytics) (1.25.2)\n",
            "Requirement already satisfied: packaging>=20.0 in /usr/local/lib/python3.10/dist-packages (from matplotlib>=3.3.0->ultralytics) (24.0)\n",
            "Requirement already satisfied: pyparsing>=2.3.1 in /usr/local/lib/python3.10/dist-packages (from matplotlib>=3.3.0->ultralytics) (3.1.2)\n",
            "Requirement already satisfied: python-dateutil>=2.7 in /usr/local/lib/python3.10/dist-packages (from matplotlib>=3.3.0->ultralytics) (2.8.2)\n",
            "Requirement already satisfied: pytz>=2020.1 in /usr/local/lib/python3.10/dist-packages (from pandas>=1.1.4->ultralytics) (2023.4)\n",
            "Requirement already satisfied: charset-normalizer<4,>=2 in /usr/local/lib/python3.10/dist-packages (from requests>=2.23.0->ultralytics) (3.3.2)\n",
            "Requirement already satisfied: idna<4,>=2.5 in /usr/local/lib/python3.10/dist-packages (from requests>=2.23.0->ultralytics) (3.6)\n",
            "Requirement already satisfied: urllib3<3,>=1.21.1 in /usr/local/lib/python3.10/dist-packages (from requests>=2.23.0->ultralytics) (2.0.7)\n",
            "Requirement already satisfied: certifi>=2017.4.17 in /usr/local/lib/python3.10/dist-packages (from requests>=2.23.0->ultralytics) (2024.2.2)\n",
            "Requirement already satisfied: filelock in /usr/local/lib/python3.10/dist-packages (from torch>=1.8.0->ultralytics) (3.13.1)\n",
            "Requirement already satisfied: typing-extensions>=4.8.0 in /usr/local/lib/python3.10/dist-packages (from torch>=1.8.0->ultralytics) (4.10.0)\n",
            "Requirement already satisfied: sympy in /usr/local/lib/python3.10/dist-packages (from torch>=1.8.0->ultralytics) (1.12)\n",
            "Requirement already satisfied: networkx in /usr/local/lib/python3.10/dist-packages (from torch>=1.8.0->ultralytics) (3.2.1)\n",
            "Requirement already satisfied: jinja2 in /usr/local/lib/python3.10/dist-packages (from torch>=1.8.0->ultralytics) (3.1.3)\n",
            "Requirement already satisfied: fsspec in /usr/local/lib/python3.10/dist-packages (from torch>=1.8.0->ultralytics) (2023.6.0)\n",
            "Requirement already satisfied: nvidia-cuda-nvrtc-cu12==12.1.105 in /usr/local/lib/python3.10/dist-packages (from torch>=1.8.0->ultralytics) (12.1.105)\n",
            "Requirement already satisfied: nvidia-cuda-runtime-cu12==12.1.105 in /usr/local/lib/python3.10/dist-packages (from torch>=1.8.0->ultralytics) (12.1.105)\n",
            "Requirement already satisfied: nvidia-cuda-cupti-cu12==12.1.105 in /usr/local/lib/python3.10/dist-packages (from torch>=1.8.0->ultralytics) (12.1.105)\n",
            "Requirement already satisfied: nvidia-cudnn-cu12==8.9.2.26 in /usr/local/lib/python3.10/dist-packages (from torch>=1.8.0->ultralytics) (8.9.2.26)\n",
            "Requirement already satisfied: nvidia-cublas-cu12==12.1.3.1 in /usr/local/lib/python3.10/dist-packages (from torch>=1.8.0->ultralytics) (12.1.3.1)\n",
            "Requirement already satisfied: nvidia-cufft-cu12==11.0.2.54 in /usr/local/lib/python3.10/dist-packages (from torch>=1.8.0->ultralytics) (11.0.2.54)\n",
            "Requirement already satisfied: nvidia-curand-cu12==10.3.2.106 in /usr/local/lib/python3.10/dist-packages (from torch>=1.8.0->ultralytics) (10.3.2.106)\n",
            "Requirement already satisfied: nvidia-cusolver-cu12==11.4.5.107 in /usr/local/lib/python3.10/dist-packages (from torch>=1.8.0->ultralytics) (11.4.5.107)\n",
            "Requirement already satisfied: nvidia-cusparse-cu12==12.1.0.106 in /usr/local/lib/python3.10/dist-packages (from torch>=1.8.0->ultralytics) (12.1.0.106)\n",
            "Requirement already satisfied: nvidia-nccl-cu12==2.19.3 in /usr/local/lib/python3.10/dist-packages (from torch>=1.8.0->ultralytics) (2.19.3)\n",
            "Requirement already satisfied: nvidia-nvtx-cu12==12.1.105 in /usr/local/lib/python3.10/dist-packages (from torch>=1.8.0->ultralytics) (12.1.105)\n",
            "Requirement already satisfied: triton==2.2.0 in /usr/local/lib/python3.10/dist-packages (from torch>=1.8.0->ultralytics) (2.2.0)\n",
            "Requirement already satisfied: nvidia-nvjitlink-cu12 in /usr/local/lib/python3.10/dist-packages (from nvidia-cusolver-cu12==11.4.5.107->torch>=1.8.0->ultralytics) (12.4.99)\n",
            "Requirement already satisfied: six>=1.5 in /usr/local/lib/python3.10/dist-packages (from python-dateutil>=2.7->matplotlib>=3.3.0->ultralytics) (1.16.0)\n",
            "Requirement already satisfied: MarkupSafe>=2.0 in /usr/local/lib/python3.10/dist-packages (from jinja2->torch>=1.8.0->ultralytics) (2.1.5)\n",
            "Requirement already satisfied: mpmath>=0.19 in /usr/local/lib/python3.10/dist-packages (from sympy->torch>=1.8.0->ultralytics) (1.3.0)\n"
          ]
        }
      ]
    },
    {
      "cell_type": "code",
      "source": [
        "\n",
        "### 4. Train model ###\n",
        "\n",
        "import os\n",
        "\n",
        "from ultralytics import YOLO\n",
        "\n",
        "\n",
        "# Load a model\n",
        "model = YOLO(\"yolov8n-cls.pt\")  # load a pretained model\n",
        "\n",
        "# Use the model\n",
        "results = model.train(data='/content/data/', epochs=5)  # train the model"
      ],
      "metadata": {
        "colab": {
          "base_uri": "https://localhost:8080/"
        },
        "id": "2BhrwIcUMIJ1",
        "outputId": "0cbc1637-b1a1-4dee-f8d4-f6f021cbd7cb"
      },
      "execution_count": 9,
      "outputs": [
        {
          "output_type": "stream",
          "name": "stdout",
          "text": [
            "Ultralytics YOLOv8.1.29 🚀 Python-3.10.12 torch-2.2.1+cu121 CUDA:0 (Tesla T4, 15102MiB)\n",
            "\u001b[34m\u001b[1mengine/trainer: \u001b[0mtask=classify, mode=train, model=yolov8n-cls.pt, data=/content/data/, epochs=5, time=None, patience=100, batch=16, imgsz=224, save=True, save_period=-1, cache=False, device=None, workers=8, project=None, name=train2, exist_ok=False, pretrained=True, optimizer=auto, verbose=True, seed=0, deterministic=True, single_cls=False, rect=False, cos_lr=False, close_mosaic=10, resume=False, amp=True, fraction=1.0, profile=False, freeze=None, multi_scale=False, overlap_mask=True, mask_ratio=4, dropout=0.0, val=True, split=val, save_json=False, save_hybrid=False, conf=None, iou=0.7, max_det=300, half=False, dnn=False, plots=True, source=None, vid_stride=1, stream_buffer=False, visualize=False, augment=False, agnostic_nms=False, classes=None, retina_masks=False, embed=None, show=False, save_frames=False, save_txt=False, save_conf=False, save_crop=False, show_labels=True, show_conf=True, show_boxes=True, line_width=None, format=torchscript, keras=False, optimize=False, int8=False, dynamic=False, simplify=False, opset=None, workspace=4, nms=False, lr0=0.01, lrf=0.01, momentum=0.937, weight_decay=0.0005, warmup_epochs=3.0, warmup_momentum=0.8, warmup_bias_lr=0.1, box=7.5, cls=0.5, dfl=1.5, pose=12.0, kobj=1.0, label_smoothing=0.0, nbs=64, hsv_h=0.015, hsv_s=0.7, hsv_v=0.4, degrees=0.0, translate=0.1, scale=0.5, shear=0.0, perspective=0.0, flipud=0.0, fliplr=0.5, mosaic=1.0, mixup=0.0, copy_paste=0.0, auto_augment=randaugment, erasing=0.4, crop_fraction=1.0, cfg=None, tracker=botsort.yaml, save_dir=runs/classify/train2\n",
            "\n",
            "Dataset not found ⚠️, missing path /content/data, attempting download...\n"
          ]
        },
        {
          "output_type": "stream",
          "name": "stderr",
          "text": [
            "Unzipping /content/data.zip to /content/data...: 100%|██████████| 190/190 [00:00<00:00, 427.56file/s]"
          ]
        },
        {
          "output_type": "stream",
          "name": "stdout",
          "text": [
            "Dataset download success ✅ (0.5s), saved to \u001b[1m/content/data\u001b[0m\n",
            "\n",
            "\u001b[34m\u001b[1mtrain:\u001b[0m /content/data/train... found 91 images in 4 classes ✅ \n",
            "\u001b[34m\u001b[1mval:\u001b[0m None...\n",
            "\u001b[34m\u001b[1mtest:\u001b[0m /content/data/test... found 91 images in 4 classes ✅ \n"
          ]
        },
        {
          "output_type": "stream",
          "name": "stderr",
          "text": [
            "\n"
          ]
        },
        {
          "output_type": "stream",
          "name": "stdout",
          "text": [
            "Overriding model.yaml nc=1000 with nc=4\n",
            "\n",
            "                   from  n    params  module                                       arguments                     \n",
            "  0                  -1  1       464  ultralytics.nn.modules.conv.Conv             [3, 16, 3, 2]                 \n",
            "  1                  -1  1      4672  ultralytics.nn.modules.conv.Conv             [16, 32, 3, 2]                \n",
            "  2                  -1  1      7360  ultralytics.nn.modules.block.C2f             [32, 32, 1, True]             \n",
            "  3                  -1  1     18560  ultralytics.nn.modules.conv.Conv             [32, 64, 3, 2]                \n",
            "  4                  -1  2     49664  ultralytics.nn.modules.block.C2f             [64, 64, 2, True]             \n",
            "  5                  -1  1     73984  ultralytics.nn.modules.conv.Conv             [64, 128, 3, 2]               \n",
            "  6                  -1  2    197632  ultralytics.nn.modules.block.C2f             [128, 128, 2, True]           \n",
            "  7                  -1  1    295424  ultralytics.nn.modules.conv.Conv             [128, 256, 3, 2]              \n",
            "  8                  -1  1    460288  ultralytics.nn.modules.block.C2f             [256, 256, 1, True]           \n",
            "  9                  -1  1    335364  ultralytics.nn.modules.head.Classify         [256, 4]                      \n",
            "YOLOv8n-cls summary: 99 layers, 1443412 parameters, 1443412 gradients, 3.4 GFLOPs\n",
            "Transferred 156/158 items from pretrained weights\n",
            "\u001b[34m\u001b[1mTensorBoard: \u001b[0mStart with 'tensorboard --logdir runs/classify/train2', view at http://localhost:6006/\n",
            "\u001b[34m\u001b[1mAMP: \u001b[0mrunning Automatic Mixed Precision (AMP) checks with YOLOv8n...\n",
            "Downloading https://github.com/ultralytics/assets/releases/download/v8.1.0/yolov8n.pt to 'yolov8n.pt'...\n"
          ]
        },
        {
          "output_type": "stream",
          "name": "stderr",
          "text": [
            "100%|██████████| 6.23M/6.23M [00:00<00:00, 109MB/s]\n"
          ]
        },
        {
          "output_type": "stream",
          "name": "stdout",
          "text": [
            "\u001b[34m\u001b[1mAMP: \u001b[0mchecks passed ✅\n"
          ]
        },
        {
          "output_type": "stream",
          "name": "stderr",
          "text": [
            "\u001b[34m\u001b[1mtrain: \u001b[0mScanning /content/data/train... 91 images, 0 corrupt: 100%|██████████| 91/91 [00:00<00:00, 2975.63it/s]"
          ]
        },
        {
          "output_type": "stream",
          "name": "stdout",
          "text": [
            "\u001b[34m\u001b[1mtrain: \u001b[0mNew cache created: /content/data/train.cache\n"
          ]
        },
        {
          "output_type": "stream",
          "name": "stderr",
          "text": [
            "\n",
            "\u001b[34m\u001b[1mval: \u001b[0mScanning /content/data/test... 91 images, 0 corrupt: 100%|██████████| 91/91 [00:00<00:00, 3158.75it/s]"
          ]
        },
        {
          "output_type": "stream",
          "name": "stdout",
          "text": [
            "\u001b[34m\u001b[1mval: \u001b[0mNew cache created: /content/data/test.cache\n"
          ]
        },
        {
          "output_type": "stream",
          "name": "stderr",
          "text": [
            "\n"
          ]
        },
        {
          "output_type": "stream",
          "name": "stdout",
          "text": [
            "\u001b[34m\u001b[1moptimizer:\u001b[0m 'optimizer=auto' found, ignoring 'lr0=0.01' and 'momentum=0.937' and determining best 'optimizer', 'lr0' and 'momentum' automatically... \n",
            "\u001b[34m\u001b[1moptimizer:\u001b[0m AdamW(lr=0.000714, momentum=0.9) with parameter groups 26 weight(decay=0.0), 27 weight(decay=0.0005), 27 bias(decay=0.0)\n",
            "\u001b[34m\u001b[1mTensorBoard: \u001b[0mmodel graph visualization added ✅\n",
            "Image sizes 224 train, 224 val\n",
            "Using 2 dataloader workers\n",
            "Logging results to \u001b[1mruns/classify/train2\u001b[0m\n",
            "Starting training for 5 epochs...\n",
            "\n",
            "      Epoch    GPU_mem       loss  Instances       Size\n"
          ]
        },
        {
          "output_type": "stream",
          "name": "stderr",
          "text": [
            "        1/5     0.403G      1.336         16        224:  67%|██████▋   | 4/6 [00:02<00:00,  2.01it/s]"
          ]
        },
        {
          "output_type": "stream",
          "name": "stdout",
          "text": [
            "Downloading https://ultralytics.com/assets/Arial.ttf to '/root/.config/Ultralytics/Arial.ttf'...\n"
          ]
        },
        {
          "output_type": "stream",
          "name": "stderr",
          "text": [
            "\n",
            "100%|██████████| 755k/755k [00:00<00:00, 21.4MB/s]\n",
            "        1/5     0.403G      1.327         11        224: 100%|██████████| 6/6 [00:06<00:00,  1.07s/it]\n",
            "               classes   top1_acc   top5_acc: 100%|██████████| 3/3 [00:00<00:00,  3.52it/s]"
          ]
        },
        {
          "output_type": "stream",
          "name": "stdout",
          "text": [
            "                   all      0.341          1\n"
          ]
        },
        {
          "output_type": "stream",
          "name": "stderr",
          "text": [
            "\n"
          ]
        },
        {
          "output_type": "stream",
          "name": "stdout",
          "text": [
            "\n",
            "      Epoch    GPU_mem       loss  Instances       Size\n"
          ]
        },
        {
          "output_type": "stream",
          "name": "stderr",
          "text": [
            "        2/5     0.382G      1.305         11        224: 100%|██████████| 6/6 [00:04<00:00,  1.41it/s]\n",
            "               classes   top1_acc   top5_acc: 100%|██████████| 3/3 [00:00<00:00, 34.07it/s]"
          ]
        },
        {
          "output_type": "stream",
          "name": "stdout",
          "text": [
            "                   all      0.429          1\n"
          ]
        },
        {
          "output_type": "stream",
          "name": "stderr",
          "text": [
            "\n"
          ]
        },
        {
          "output_type": "stream",
          "name": "stdout",
          "text": [
            "\n",
            "      Epoch    GPU_mem       loss  Instances       Size\n"
          ]
        },
        {
          "output_type": "stream",
          "name": "stderr",
          "text": [
            "        3/5     0.384G      1.299         11        224: 100%|██████████| 6/6 [00:06<00:00,  1.15s/it]\n",
            "               classes   top1_acc   top5_acc: 100%|██████████| 3/3 [00:00<00:00, 45.92it/s]"
          ]
        },
        {
          "output_type": "stream",
          "name": "stdout",
          "text": [
            "                   all      0.429          1\n"
          ]
        },
        {
          "output_type": "stream",
          "name": "stderr",
          "text": [
            "\n"
          ]
        },
        {
          "output_type": "stream",
          "name": "stdout",
          "text": [
            "\n",
            "      Epoch    GPU_mem       loss  Instances       Size\n"
          ]
        },
        {
          "output_type": "stream",
          "name": "stderr",
          "text": [
            "        4/5     0.386G      1.254         11        224: 100%|██████████| 6/6 [00:04<00:00,  1.22it/s]\n",
            "               classes   top1_acc   top5_acc: 100%|██████████| 3/3 [00:00<00:00, 32.66it/s]"
          ]
        },
        {
          "output_type": "stream",
          "name": "stdout",
          "text": [
            "                   all      0.407          1\n"
          ]
        },
        {
          "output_type": "stream",
          "name": "stderr",
          "text": [
            "\n"
          ]
        },
        {
          "output_type": "stream",
          "name": "stdout",
          "text": [
            "\n",
            "      Epoch    GPU_mem       loss  Instances       Size\n"
          ]
        },
        {
          "output_type": "stream",
          "name": "stderr",
          "text": [
            "        5/5     0.386G      1.247         11        224: 100%|██████████| 6/6 [00:06<00:00,  1.16s/it]\n",
            "               classes   top1_acc   top5_acc: 100%|██████████| 3/3 [00:00<00:00, 28.52it/s]"
          ]
        },
        {
          "output_type": "stream",
          "name": "stdout",
          "text": [
            "                   all      0.407          1\n"
          ]
        },
        {
          "output_type": "stream",
          "name": "stderr",
          "text": [
            "\n"
          ]
        },
        {
          "output_type": "stream",
          "name": "stdout",
          "text": [
            "\n",
            "5 epochs completed in 0.011 hours.\n",
            "Optimizer stripped from runs/classify/train2/weights/last.pt, 3.0MB\n",
            "Optimizer stripped from runs/classify/train2/weights/best.pt, 3.0MB\n",
            "\n",
            "Validating runs/classify/train2/weights/best.pt...\n",
            "Ultralytics YOLOv8.1.29 🚀 Python-3.10.12 torch-2.2.1+cu121 CUDA:0 (Tesla T4, 15102MiB)\n",
            "YOLOv8n-cls summary (fused): 73 layers, 1440004 parameters, 0 gradients, 3.3 GFLOPs\n",
            "WARNING ⚠️ Dataset 'split=val' not found, using 'split=test' instead.\n",
            "\u001b[34m\u001b[1mtrain:\u001b[0m /content/data/train... found 91 images in 4 classes ✅ \n",
            "\u001b[34m\u001b[1mval:\u001b[0m None...\n",
            "\u001b[34m\u001b[1mtest:\u001b[0m /content/data/test... found 91 images in 4 classes ✅ \n"
          ]
        },
        {
          "output_type": "stream",
          "name": "stderr",
          "text": [
            "               classes   top1_acc   top5_acc: 100%|██████████| 3/3 [00:03<00:00,  1.32s/it]\n"
          ]
        },
        {
          "output_type": "stream",
          "name": "stdout",
          "text": [
            "                   all      0.429          1\n",
            "Speed: 0.1ms preprocess, 0.5ms inference, 0.2ms loss, 0.0ms postprocess per image\n",
            "Results saved to \u001b[1mruns/classify/train2\u001b[0m\n",
            "Results saved to \u001b[1mruns/classify/train2\u001b[0m\n"
          ]
        }
      ]
    },
    {
      "cell_type": "code",
      "source": [
        "# Access classification metrics\n",
        "top1_accuracy = results.top1\n",
        "top5_accuracy = results.top5\n",
        "\n",
        "print(\"Top-1 Accuracy:\", top1_accuracy)\n",
        "print(\"Top-5 Accuracy:\", top5_accuracy)"
      ],
      "metadata": {
        "colab": {
          "base_uri": "https://localhost:8080/"
        },
        "id": "NEPefl0rOMve",
        "outputId": "41ebf159-e5e9-4075-eb81-5f0a4e72d15e"
      },
      "execution_count": 12,
      "outputs": [
        {
          "output_type": "stream",
          "name": "stdout",
          "text": [
            "Top-1 Accuracy: 0.4285714328289032\n",
            "Top-5 Accuracy: 1.0\n"
          ]
        }
      ]
    },
    {
      "cell_type": "code",
      "source": [
        "from sklearn.metrics import confusion_matrix, classification_report\n",
        "import matplotlib.pyplot as plt\n",
        "\n",
        "# Assuming you have ground truth labels and predicted labels\n",
        "ground_truth_labels = ['NoROP', 'Stage1', 'Stage2', 'Stage3']  # Ground truth labels\n",
        "predicted_labels = ['NoROP', 'Stage1', 'Stage2', 'Stage3']     # Predicted labels\n",
        "\n",
        "# Generate confusion matrix\n",
        "cm = confusion_matrix(ground_truth_labels, predicted_labels)\n",
        "\n",
        "# Plot confusion matrix\n",
        "plt.figure(figsize=(8, 6))\n",
        "plt.imshow(cm, interpolation='nearest', cmap=plt.cm.Blues)\n",
        "plt.title('Confusion Matrix')\n",
        "plt.colorbar()\n",
        "plt.xlabel('Predicted')\n",
        "plt.ylabel('True')\n",
        "plt.show()\n",
        "\n",
        "# Generate classification report\n",
        "report = classification_report(ground_truth_labels, predicted_labels)\n",
        "print(\"Classification Report:\")\n",
        "print(report)\n"
      ],
      "metadata": {
        "colab": {
          "base_uri": "https://localhost:8080/",
          "height": 772
        },
        "id": "sYPoCIZNOqrO",
        "outputId": "39662e8a-0fa3-45e0-ce7f-c16dbaea4b77"
      },
      "execution_count": 14,
      "outputs": [
        {
          "output_type": "display_data",
          "data": {
            "text/plain": [
              "<Figure size 800x600 with 2 Axes>"
            ],
            "image/png": "[encoded data removed]"
          },
          "metadata": {}
        },
        {
          "output_type": "stream",
          "name": "stdout",
          "text": [
            "Classification Report:\n",
            "              precision    recall  f1-score   support\n",
            "\n",
            "       NoROP       1.00      1.00      1.00         1\n",
            "      Stage1       1.00      1.00      1.00         1\n",
            "      Stage2       1.00      1.00      1.00         1\n",
            "      Stage3       1.00      1.00      1.00         1\n",
            "\n",
            "    accuracy                           1.00         4\n",
            "   macro avg       1.00      1.00      1.00         4\n",
            "weighted avg       1.00      1.00      1.00         4\n",
            "\n"
          ]
        }
      ]
    },
    {
      "cell_type": "code",
      "source": [],
      "metadata": {
        "id": "waK-gCx5PYt5"
      },
      "execution_count": 17,
      "outputs": []
    },
    {
      "cell_type": "code",
      "source": [],
      "metadata": {
        "id": "GV1pcusXRGe-"
      },
      "execution_count": null,
      "outputs": []
    }
  ]
}